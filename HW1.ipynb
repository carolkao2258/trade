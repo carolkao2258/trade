# -*- coding: utf-8 -*-
"""
Spyder Editor

This is a temporary script file.
"""

print(0o11+0o11+0o11)#將8進位表示為11的相加
print(0xAA +0xBB +0xCC)#將16進位相加

#匯入2317公司資料並存成excel在預設路徑
import yfinance as yf
df = yf.download ("2317.TW", "2020-01-01")#2020年1月1日後的資料
type(df)#看dataframe資料格式
df.to_excel('yahoo_2317TW.xlsx') #匯出至excel

#匯入2353公司資料並存成excel在預設路徑
import yfinance as yf
df = yf.download ("2353.TW", "2020-01-01")#2020年1月1日後的資料
type(df)#看dataframe資料格式
df.to_excel('yahoo_2353TW.xlsx')  #匯出至excel


from ucimlrepo import fetch_ucirepo#載入套件
Iris = fetch_ucirepo(id=53)#載入鳶尾花數據
X = Iris.data.features#找出feature
y = Iris.data.targets#找出target
print(Iris.metadata)#顯示meta的data
print(Iris.variables)#顯示變數

from ucimlrepo import fetch_ucirepo , list_available_datasets 
list_available_datasets() #顯示data各項資料的id

import yfinance as yf
df = yf.download ("3138.TW", "2020-01-01")#2020年1月1日後的資料
type(df)#看dataframe資料格式
df.to_excel('yahoo_3138TW.xlsx')  #匯出至excel


