# -*- coding: utf-8 -*-
"""
Created on Thu May 30 14:22:36 2024

@author: User
"""

import numpy as np
import scipy.stats as si
S, K, T, r, sigma = 90, 100, 0.5, 0.01, 0.3
def BS(S,K,T,r,sigma):
    d1 = (np.log(S/K)+(r+0.5*sigma**2)*T)/(sigma*np.sqrt(T))
    d2 = (np.log(S/K)+(r-0.5*sigma**2)*T)/(sigma*np.sqrt(T))
    call = S*si.norm.cdf(d1,0.0,1.0)-K*np.exp(-r*T)*si.norm.cdf(d2,0.0,1.0)
    put = -S*si.norm.cdf(-d1,0.0,1.0)+K*np.exp(-r*T)*si.norm.cdf(-d2,0.0,1.0)
    return call,put
BS_call, BS_put= BS(S,K,T,r,sigma)
print ('S,K,T,r,sigma=',S,K,T,r,sigma)
print ('BS_call=',round(BS_call,4),', BS_put=', round(BS_put,4))

Ks=np.linspace(10,150,num=10)
Ks

for i in range(10):
    K = Ks[i]
    print('S,K,T,r,sigma=',S,K,T,r,sigma)
    
for i in range(10):
    K = Ks[i]
    BS_call,BS_put=BS(S,K,T,r,sigma)
    print('BS_call=',round(BS_call,4),',BS_put',round(BS_put,4))
    
BS_calls=[]
BS_puts=[]
for i in range(10):
    K=Ks[i]
    BS_call,BS_put=BS(S,K,T,r,sigma)
    BS_calls.append(BS_call)
    BS_puts.append(BS_put)
    
BS_calls

import matplotlib.pyplot as plt
plt.plot(Ks,BS_calls)
plt.savefig('call.png')
plot.show()

plt.plot(Ks,BS_puts)
plt.savefig('put.png')
plt.show()