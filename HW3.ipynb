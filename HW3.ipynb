# -*- coding: utf-8 -*-
"""
Created on Thu May 30 14:22:36 2024

@author: User
"""
#建立函式與參數
import numpy as np
import scipy.stats as si
S, K, T, r, sigma = 90, 100, 0.5, 0.01, 0.3
def BS(S,K,T,r,sigma):
    d1 = (np.log(S/K)+(r+0.5*sigma**2)*T)/(sigma*np.sqrt(T))
    d2 = (np.log(S/K)+(r-0.5*sigma**2)*T)/(sigma*np.sqrt(T))
    call = S*si.norm.cdf(d1,0.0,1.0)-K*np.exp(-r*T)*si.norm.cdf(d2,0.0,1.0)
    put = -S*si.norm.cdf(-d1,0.0,1.0)+K*np.exp(-r*T)*si.norm.cdf(-d2,0.0,1.0)
    return call,put
BS_call, BS_put= BS(S,K,T,r,sigma)
print ('S,K,T,r,sigma=',S,K,T,r,sigma)
print ('BS_call=',round(BS_call,4),', BS_put=', round(BS_put,4))

#最大值為10，最小值為150，總共10個數字，等間隔
Ks=np.linspace(10,150,num=10)
Ks

#顯示選擇權參數
for i in range(10):
    K = Ks[i]
    print('S,K,T,r,sigma=',S,K,T,r,sigma)

#印出BS_call，並顯示到小數點後四位    
for i in range(10):
    K = Ks[i]
    BS_call,BS_put=BS(S,K,T,r,sigma)
    print('BS_call=',round(BS_call,4),',BS_put',round(BS_put,4))
    
#顯示買權與賣權價格
BS_calls=[]
BS_puts=[]
for i in range(10):
    K=Ks[i]
    BS_call,BS_put=BS(S,K,T,r,sigma)
    BS_calls.append(BS_call)
    BS_puts.append(BS_put)
    
#確認結果
BS_calls

#存入list並繪圖
import matplotlib.pyplot as plt
plt.plot(Ks,BS_calls)
plt.savefig('call.png')
plot.show()

plt.plot(Ks,BS_puts)
plt.savefig('put.png')
plt.show()